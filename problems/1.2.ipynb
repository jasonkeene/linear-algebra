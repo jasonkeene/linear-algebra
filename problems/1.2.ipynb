{
 "cells": [
  {
   "cell_type": "code",
   "execution_count": null,
   "id": "383f84d6-6fe0-415f-958a-0fbfd102ac02",
   "metadata": {},
   "outputs": [],
   "source": [
    "%matplotlib inline\n",
    "\n",
    "import matplotlib.pyplot as plt\n",
    "import numpy as np\n",
    "from scipy.stats import norm\n",
    "from ipywidgets import interact"
   ]
  },
  {
   "cell_type": "markdown",
   "id": "21413b6c-c6c5-4859-8e38-3bc3dc038475",
   "metadata": {},
   "source": [
    "These are some helper functions for drawing lines:"
   ]
  },
  {
   "cell_type": "code",
   "execution_count": null,
   "id": "4e052bfc-2543-4bd7-8556-8f6d61962e9a",
   "metadata": {},
   "outputs": [],
   "source": [
    "def line(v1: np.array, v2: np.array) -> (np.array, np.array):\n",
    "    '''Create a line from vector v1 to vector v2.'''\n",
    "    return np.array([v1[0], v2[0]]), np.array([v1[1], v2[1]]), np.array([v1[2], v2[2]])\n",
    "\n",
    "\n",
    "def line_from_origin(v: np.array) -> (np.array, np.array):\n",
    "    '''Create a line from the origin to vector v.'''\n",
    "    return line(np.array([0, 0, 0]), v)\n",
    "\n",
    "\n",
    "def make_unit(v: np.array) -> np.array:\n",
    "    '''Convert any vector into a unit vector.'''\n",
    "    return v/np.linalg.norm(v)"
   ]
  },
  {
   "cell_type": "markdown",
   "id": "13b7737c-f9ec-40e9-b08d-22d5650f1e8c",
   "metadata": {},
   "source": [
    "This function plots the problem:"
   ]
  },
  {
   "cell_type": "code",
   "execution_count": null,
   "id": "f883dc8f-fb30-47fa-aa59-0ee08513b1f8",
   "metadata": {},
   "outputs": [],
   "source": [
    "def plot(j: int = 1, azimuth: float = 26.10, elevation: float =4.5, seed: int = 2) -> None:\n",
    "    '''Plot the graph from problem 34.'''\n",
    "    \n",
    "    # seed RNG to keep results consistent across runs\n",
    "    np.random.seed(seed)\n",
    "    \n",
    "    # create a single random unit vector, this will be our primary vector\n",
    "    u = make_unit(np.array([norm.rvs() for _ in range(3)]))\n",
    "    \n",
    "    # create many different random vectors, this will be what we compute the dot product against\n",
    "    Uj = [make_unit(np.array([norm.rvs() for _ in range(3)])) for _ in range(j)]\n",
    "\n",
    "    # create a 3d subplot\n",
    "    ax = plt.figure().add_subplot(projection='3d')\n",
    "\n",
    "    # set axes limits and labels\n",
    "    ax.set_xlim(-1, 1)\n",
    "    ax.set_ylim(-1, 1)\n",
    "    ax.set_zlim(-1, 1)\n",
    "    ax.set_xlabel('X')\n",
    "    ax.set_ylabel('Y')\n",
    "    ax.set_zlabel('Z')\n",
    "    \n",
    "    # customize the view angle\n",
    "    ax.view_init(elev=elevation, azim=azimuth, roll=0)\n",
    "\n",
    "    # plot the primary vector\n",
    "    ax.plot(*line_from_origin(u), linewidth=2, marker=\"o\")\n",
    "    \n",
    "    # plot the secondary vectors, their scalar projections, and compute an average dot product\n",
    "    dot_products = []\n",
    "    for uj in Uj:\n",
    "        # compute the dot product\n",
    "        d = np.dot(u, uj)\n",
    "        dot_products.append(d)\n",
    "        \n",
    "        # plot the random secondary vector\n",
    "        ax.plot(*line_from_origin(uj), linewidth=2, alpha=0.4, marker=\".\")\n",
    "        \n",
    "        # plot the scalar projection of the primary vector onto the secondary vector\n",
    "        ax.plot(*line_from_origin(d*uj), linestyle=\"dotted\", linewidth=2, alpha=0.3, marker=\".\", color=\"grey\")\n",
    "        \n",
    "        # plot the line from the primary vector to the secondary vector\n",
    "        ax.plot(*line(u, d*uj), linestyle=\"dotted\", linewidth=2, alpha=0.3, marker=\".\", color=\"grey\")\n",
    "\n",
    "    # display an average of all dot products\n",
    "    ax.text2D(0.05, 0.95, \"average: \" + str(sum(dot_products)/len(dot_products)), transform=ax.transAxes)"
   ]
  },
  {
   "cell_type": "markdown",
   "id": "ddb4d8d2-c4f9-43c7-8a9f-2219b86e28ac",
   "metadata": {},
   "source": [
    "Finally create the plot:"
   ]
  },
  {
   "cell_type": "code",
   "execution_count": null,
   "id": "c97d8533-a838-4f28-88cc-2f41f39f5523",
   "metadata": {},
   "outputs": [],
   "source": [
    "_ = interact(plot, j=(1, 300), seed=(1, 30))"
   ]
  }
 ],
 "metadata": {
  "kernelspec": {
   "display_name": "Python 3 (ipykernel)",
   "language": "python",
   "name": "python3"
  },
  "language_info": {
   "codemirror_mode": {
    "name": "ipython",
    "version": 3
   },
   "file_extension": ".py",
   "mimetype": "text/x-python",
   "name": "python",
   "nbconvert_exporter": "python",
   "pygments_lexer": "ipython3",
   "version": "3.10.8"
  }
 },
 "nbformat": 4,
 "nbformat_minor": 5
}
