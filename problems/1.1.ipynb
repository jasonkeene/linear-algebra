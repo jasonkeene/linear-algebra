{
 "cells": [
  {
   "cell_type": "code",
   "execution_count": null,
   "id": "383f84d6-6fe0-415f-958a-0fbfd102ac02",
   "metadata": {},
   "outputs": [],
   "source": [
    "%matplotlib inline\n",
    "\n",
    "import matplotlib.pyplot as plt\n",
    "import numpy as np\n",
    "from ipywidgets import interact\n",
    "import ipywidgets as widgets"
   ]
  },
  {
   "cell_type": "markdown",
   "id": "21413b6c-c6c5-4859-8e38-3bc3dc038475",
   "metadata": {},
   "source": [
    "These are some helper functions for drawing lines:"
   ]
  },
  {
   "cell_type": "code",
   "execution_count": null,
   "id": "4e052bfc-2543-4bd7-8556-8f6d61962e9a",
   "metadata": {},
   "outputs": [],
   "source": [
    "def line(v1: np.array, v2: np.array) -> (np.array, np.array):\n",
    "    '''Create a line from vector v1 to vector v2.'''\n",
    "    return np.array([v1[0], v2[0]]), np.array([v1[1], v2[1]])\n",
    "\n",
    "\n",
    "def line_from_origin(v: np.array) -> (np.array, np.array):\n",
    "    '''Create a line from the origin to vector v.'''\n",
    "    return line(np.array([0, 0]), v)"
   ]
  },
  {
   "cell_type": "markdown",
   "id": "13b7737c-f9ec-40e9-b08d-22d5650f1e8c",
   "metadata": {},
   "source": [
    "This function plots the problem:"
   ]
  },
  {
   "cell_type": "code",
   "execution_count": null,
   "id": "f883dc8f-fb30-47fa-aa59-0ee08513b1f8",
   "metadata": {},
   "outputs": [],
   "source": [
    "def plot(v_weight: float = 0.3, w_weight: float = 0.3, u_weight: float = 0.4) -> None:\n",
    "    '''Plot the graph from problem 20 with the sum of the vector scalers equal to 1.'''\n",
    "    # create the vectors\n",
    "    v = np.array([6, 2])\n",
    "    w = np.array([2, 6])\n",
    "    u = np.array([5, 6])\n",
    "\n",
    "    # create a subplot, I don't really understand what this is but it is used in all the matplotlib examples\n",
    "    _, ax = plt.subplots()\n",
    "\n",
    "    # set the range for the graph\n",
    "    ax.set(\n",
    "        xlim=(0, 7), xticks=np.arange(1, 7),\n",
    "        ylim=(0, 7), yticks=np.arange(1, 7),\n",
    "    )\n",
    "    \n",
    "    # plot the vectors\n",
    "    ax.plot(*line_from_origin(v))\n",
    "    ax.plot(*line_from_origin(w))\n",
    "    ax.plot(*line_from_origin(u))\n",
    "    \n",
    "    # plot the dotted lines containing the area between each vector\n",
    "    ax.plot(*line(v, w), linestyle=\"dashed\", color=\"grey\")\n",
    "    ax.plot(*line(w, u), linestyle=\"dashed\", color=\"grey\")\n",
    "    ax.plot(*line(u, v), linestyle=\"dashed\", color=\"grey\")\n",
    "    \n",
    "    # plot the addition of three vectors, each with scalars of v, w, and u that sum to 1\n",
    "    ax.plot(*line_from_origin(v_weight*v), color=\"red\")\n",
    "    ax.plot(*line(v_weight*v, v_weight*v+w_weight*w), color=\"orange\")\n",
    "    ax.plot(*line(v_weight*v+w_weight*w, v_weight*v+w_weight*w+u_weight*u), color=\"purple\")"
   ]
  },
  {
   "cell_type": "markdown",
   "id": "336fb422-f427-4a4c-8988-88b661ebc10d",
   "metadata": {},
   "source": [
    "These functions manage the interactive widgets:"
   ]
  },
  {
   "cell_type": "code",
   "execution_count": null,
   "id": "57c7699b-a43b-4204-8b23-08d002812e2c",
   "metadata": {},
   "outputs": [],
   "source": [
    "def create_widgets() -> dict[str, widgets.FloatSlider]:\n",
    "    '''Create the slider widgets for the plot params.'''\n",
    "    v_widget = widgets.FloatSlider(value=0.3, min=0.0, max=1.0, step=0.01)\n",
    "    w_widget = widgets.FloatSlider(value=0.3, min=0.0, max=1.0, step=0.01)\n",
    "    u_widget = widgets.FloatSlider(value=0.4, min=0.0, max=1.0, step=0.01)\n",
    "    \n",
    "    other_widgets = {\n",
    "        v_widget: [w_widget, u_widget],\n",
    "        w_widget: [v_widget, u_widget],\n",
    "        u_widget: [v_widget, w_widget],\n",
    "    }\n",
    "    \n",
    "    # update widget values when other widgets are changed\n",
    "    v_widget.observe(update(other_widgets), \"value\")\n",
    "    w_widget.observe(update(other_widgets), \"value\")\n",
    "    u_widget.observe(update(other_widgets), \"value\")\n",
    "    \n",
    "    return {\n",
    "        \"v_weight\": v_widget,\n",
    "        \"w_weight\": w_widget,\n",
    "        \"u_weight\": u_widget,\n",
    "    }\n",
    "\n",
    "def update(other_widgets):\n",
    "    def update(change):\n",
    "        '''This fires whenever the widget values are updated and fixes the\n",
    "        other widgets to only every sum to the value of 1.'''\n",
    "        owner = change[\"owner\"]\n",
    "        others = other_widgets[owner]\n",
    "        if others[0].value >= others[1].value:\n",
    "            reduce = others[0]\n",
    "            preserve = others[1]\n",
    "        else:\n",
    "            reduce = others[1]\n",
    "            preserve = others[0]\n",
    "        reduce.value = 1-owner.value-preserve.value\n",
    "    return update"
   ]
  },
  {
   "cell_type": "markdown",
   "id": "ddb4d8d2-c4f9-43c7-8a9f-2219b86e28ac",
   "metadata": {},
   "source": [
    "Finally create the interactive plot:"
   ]
  },
  {
   "cell_type": "code",
   "execution_count": null,
   "id": "c97d8533-a838-4f28-88cc-2f41f39f5523",
   "metadata": {},
   "outputs": [],
   "source": [
    "_ = interact(plot, **create_widgets())"
   ]
  }
 ],
 "metadata": {
  "kernelspec": {
   "display_name": "Python 3 (ipykernel)",
   "language": "python",
   "name": "python3"
  },
  "language_info": {
   "codemirror_mode": {
    "name": "ipython",
    "version": 3
   },
   "file_extension": ".py",
   "mimetype": "text/x-python",
   "name": "python",
   "nbconvert_exporter": "python",
   "pygments_lexer": "ipython3",
   "version": "3.10.8"
  }
 },
 "nbformat": 4,
 "nbformat_minor": 5
}
